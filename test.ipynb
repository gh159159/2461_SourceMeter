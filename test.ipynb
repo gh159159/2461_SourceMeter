{
 "cells": [
  {
   "cell_type": "markdown",
   "metadata": {},
   "source": [
    "# 라이브러리 설치"
   ]
  },
  {
   "cell_type": "code",
   "execution_count": 1,
   "metadata": {},
   "outputs": [
    {
     "name": "stdout",
     "output_type": "stream",
     "text": [
      "Collecting pyvisa\n",
      "  Downloading PyVISA-1.14.1-py3-none-any.whl.metadata (7.1 kB)\n",
      "Requirement already satisfied: typing-extensions in c:\\users\\gh159\\appdata\\local\\packages\\pythonsoftwarefoundation.python.3.11_qbz5n2kfra8p0\\localcache\\local-packages\\python311\\site-packages (from pyvisa) (4.12.2)\n",
      "Downloading PyVISA-1.14.1-py3-none-any.whl (176 kB)\n",
      "   ---------------------------------------- 0.0/176.7 kB ? eta -:--:--\n",
      "   -- ------------------------------------- 10.2/176.7 kB ? eta -:--:--\n",
      "   ---------------------------------------  174.1/176.7 kB 2.6 MB/s eta 0:00:01\n",
      "   ---------------------------------------- 176.7/176.7 kB 2.1 MB/s eta 0:00:00\n",
      "Installing collected packages: pyvisa\n",
      "Successfully installed pyvisa-1.14.1\n",
      "Note: you may need to restart the kernel to use updated packages.\n"
     ]
    },
    {
     "name": "stderr",
     "output_type": "stream",
     "text": [
      "\n",
      "[notice] A new release of pip is available: 24.0 -> 24.3.1\n",
      "[notice] To update, run: C:\\Users\\gh159\\AppData\\Local\\Microsoft\\WindowsApps\\PythonSoftwareFoundation.Python.3.11_qbz5n2kfra8p0\\python.exe -m pip install --upgrade pip\n"
     ]
    }
   ],
   "source": [
    "pip install pyvisa"
   ]
  },
  {
   "cell_type": "code",
   "execution_count": 2,
   "metadata": {},
   "outputs": [
    {
     "name": "stdout",
     "output_type": "stream",
     "text": [
      "Collecting pyvisa-py\n",
      "  Downloading PyVISA_py-0.7.2-py3-none-any.whl.metadata (6.6 kB)\n",
      "Requirement already satisfied: pyvisa>=1.13.0 in c:\\users\\gh159\\appdata\\local\\packages\\pythonsoftwarefoundation.python.3.11_qbz5n2kfra8p0\\localcache\\local-packages\\python311\\site-packages (from pyvisa-py) (1.14.1)\n",
      "Requirement already satisfied: typing-extensions in c:\\users\\gh159\\appdata\\local\\packages\\pythonsoftwarefoundation.python.3.11_qbz5n2kfra8p0\\localcache\\local-packages\\python311\\site-packages (from pyvisa-py) (4.12.2)\n",
      "Downloading PyVISA_py-0.7.2-py3-none-any.whl (75 kB)\n",
      "   ---------------------------------------- 0.0/75.6 kB ? eta -:--:--\n",
      "   ----- ---------------------------------- 10.2/75.6 kB ? eta -:--:--\n",
      "   ---------------------------------------- 75.6/75.6 kB 1.4 MB/s eta 0:00:00\n",
      "Installing collected packages: pyvisa-py\n",
      "Successfully installed pyvisa-py-0.7.2\n",
      "Note: you may need to restart the kernel to use updated packages.\n"
     ]
    },
    {
     "name": "stderr",
     "output_type": "stream",
     "text": [
      "\n",
      "[notice] A new release of pip is available: 24.0 -> 24.3.1\n",
      "[notice] To update, run: C:\\Users\\gh159\\AppData\\Local\\Microsoft\\WindowsApps\\PythonSoftwareFoundation.Python.3.11_qbz5n2kfra8p0\\python.exe -m pip install --upgrade pip\n"
     ]
    }
   ],
   "source": [
    "pip install pyvisa-py"
   ]
  },
  {
   "cell_type": "code",
   "execution_count": 3,
   "metadata": {},
   "outputs": [
    {
     "name": "stdout",
     "output_type": "stream",
     "text": [
      "Collecting zeroconf\n",
      "  Downloading zeroconf-0.137.2-cp311-cp311-win_amd64.whl.metadata (6.0 kB)\n",
      "Collecting ifaddr>=0.1.7 (from zeroconf)\n",
      "  Downloading ifaddr-0.2.0-py3-none-any.whl.metadata (4.9 kB)\n",
      "Downloading zeroconf-0.137.2-cp311-cp311-win_amd64.whl (1.7 MB)\n",
      "   ---------------------------------------- 0.0/1.7 MB ? eta -:--:--\n",
      "   - -------------------------------------- 0.1/1.7 MB 1.6 MB/s eta 0:00:01\n",
      "   ---------- ----------------------------- 0.5/1.7 MB 5.6 MB/s eta 0:00:01\n",
      "   -------------------- ------------------- 0.9/1.7 MB 6.8 MB/s eta 0:00:01\n",
      "   --------------------------- ------------ 1.2/1.7 MB 6.7 MB/s eta 0:00:01\n",
      "   ---------------------------- ----------- 1.2/1.7 MB 5.8 MB/s eta 0:00:01\n",
      "   ---------------------------------------- 1.7/1.7 MB 6.6 MB/s eta 0:00:00\n",
      "Downloading ifaddr-0.2.0-py3-none-any.whl (12 kB)\n",
      "Installing collected packages: ifaddr, zeroconf\n",
      "Successfully installed ifaddr-0.2.0 zeroconf-0.137.2\n",
      "Note: you may need to restart the kernel to use updated packages.\n"
     ]
    },
    {
     "name": "stderr",
     "output_type": "stream",
     "text": [
      "\n",
      "[notice] A new release of pip is available: 24.0 -> 24.3.1\n",
      "[notice] To update, run: C:\\Users\\gh159\\AppData\\Local\\Microsoft\\WindowsApps\\PythonSoftwareFoundation.Python.3.11_qbz5n2kfra8p0\\python.exe -m pip install --upgrade pip\n"
     ]
    }
   ],
   "source": [
    "pip install zeroconf"
   ]
  },
  {
   "cell_type": "code",
   "execution_count": 4,
   "metadata": {},
   "outputs": [
    {
     "name": "stdout",
     "output_type": "stream",
     "text": [
      "Collecting gpib-ctypes\n",
      "  Downloading gpib_ctypes-0.3.0-py2.py3-none-any.whl.metadata (2.9 kB)\n",
      "Downloading gpib_ctypes-0.3.0-py2.py3-none-any.whl (16 kB)\n",
      "Installing collected packages: gpib-ctypes\n",
      "Successfully installed gpib-ctypes-0.3.0\n",
      "Note: you may need to restart the kernel to use updated packages.\n"
     ]
    },
    {
     "name": "stderr",
     "output_type": "stream",
     "text": [
      "\n",
      "[notice] A new release of pip is available: 24.0 -> 24.3.1\n",
      "[notice] To update, run: C:\\Users\\gh159\\AppData\\Local\\Microsoft\\WindowsApps\\PythonSoftwareFoundation.Python.3.11_qbz5n2kfra8p0\\python.exe -m pip install --upgrade pip\n"
     ]
    }
   ],
   "source": [
    "pip install gpib-ctypes"
   ]
  },
  {
   "cell_type": "markdown",
   "metadata": {},
   "source": [
    "# 기본 구조"
   ]
  },
  {
   "cell_type": "code",
   "execution_count": 7,
   "metadata": {},
   "outputs": [
    {
     "name": "stdout",
     "output_type": "stream",
     "text": [
      "('USB::0x05E6::0x2461::04628945::INSTR',)\n"
     ]
    }
   ],
   "source": [
    "import pyvisa\n",
    "rm = pyvisa.ResourceManager()\n",
    "print(rm.list_resources())"
   ]
  },
  {
   "cell_type": "code",
   "execution_count": 2,
   "metadata": {},
   "outputs": [],
   "source": [
    "instrument = rm.open_resource('USB::0x05E6::0x2461::04628945::INSTR')"
   ]
  },
  {
   "cell_type": "code",
   "execution_count": 8,
   "metadata": {},
   "outputs": [
    {
     "name": "stdout",
     "output_type": "stream",
     "text": [
      "Connected to: USBInstrument at USB0::0x05E6::0x2461::04628945::0::INSTR\n"
     ]
    }
   ],
   "source": [
    "try:\n",
    "    # Query the instrument ID\n",
    "    idn_response = instrument\n",
    "    print(\"Connected to:\", idn_response)\n",
    "\n",
    "except pyvisa.VisaIOError as e:\n",
    "    print(f\"An error occurred: {e}\")"
   ]
  },
  {
   "cell_type": "code",
   "execution_count": 23,
   "metadata": {},
   "outputs": [
    {
     "name": "stdout",
     "output_type": "stream",
     "text": [
      "Voltage: 0.0, Current: -6.154726e-09\n",
      "Voltage: 0.1, Current: -2.578205e-10\n",
      "Voltage: 0.2, Current: -2.971285e-10\n",
      "Voltage: 0.30000000000000004, Current: -2.357525e-10\n",
      "Voltage: 0.4, Current: -2.543721e-10\n",
      "Voltage: 0.5, Current: -2.378213e-10\n",
      "Voltage: 0.6000000000000001, Current: -1.985133e-10\n",
      "Voltage: 0.7000000000000001, Current: -2.77819e-10\n",
      "Voltage: 0.8, Current: -2.067886e-10\n",
      "Voltage: 0.9, Current: -2.09547e-10\n",
      "Voltage: 1.0, Current: -2.674746e-10\n",
      "Voltage: 1.1, Current: -1.714449e-11\n",
      "Voltage: 1.2000000000000002, Current: 1.153119e-09\n",
      "Voltage: 1.3, Current: 9.81596e-09\n",
      "Voltage: 1.4000000000000001, Current: 7.451003e-08\n",
      "Voltage: 1.5, Current: 5.690148e-07\n",
      "Voltage: 1.6, Current: 4.704701e-06\n",
      "Voltage: 1.7000000000000002, Current: 4.895554e-05\n",
      "Voltage: 1.8, Current: 0.000476303\n",
      "Voltage: 1.9000000000000001, Current: 0.002174383\n",
      "Voltage: 2.0, Current: 0.005724423\n",
      "Voltage: 2.1, Current: 0.01194119\n",
      "Voltage: 2.2, Current: 0.02000154\n",
      "Voltage: 2.3000000000000003, Current: 0.02000148\n",
      "Voltage: 2.4000000000000004, Current: 0.02000144\n",
      "Voltage: 2.5, Current: 0.02000142\n",
      "Voltage: 2.6, Current: 0.02000143\n",
      "Voltage: 2.7, Current: 0.02000144\n",
      "Voltage: 2.8000000000000003, Current: 0.02000138\n",
      "Voltage: 2.9000000000000004, Current: 0.02000142\n",
      "Voltage: 3.0, Current: 0.02000135\n",
      "Voltage: 3.1, Current: 0.02000131\n",
      "Voltage: 3.2, Current: 0.02000136\n",
      "Voltage: 3.3000000000000003, Current: 0.02000137\n",
      "Voltage: 3.4000000000000004, Current: 0.02000135\n",
      "Voltage: 3.5, Current: 0.02000129\n",
      "Voltage: 3.6, Current: 0.02000131\n",
      "Voltage: 3.7, Current: 0.02000123\n",
      "Voltage: 3.8000000000000003, Current: 0.0200013\n",
      "Voltage: 3.9000000000000004, Current: 0.02000124\n",
      "Voltage: 4.0, Current: 0.02000124\n",
      "Voltage: 4.1000000000000005, Current: 0.02000119\n",
      "Voltage: 4.2, Current: 0.02000117\n",
      "Voltage: 4.3, Current: 0.02000119\n",
      "Voltage: 4.4, Current: 0.02000122\n",
      "Voltage: 4.5, Current: 0.02000118\n",
      "Voltage: 4.6000000000000005, Current: 0.02000114\n",
      "Voltage: 4.7, Current: 0.02000121\n",
      "Voltage: 4.800000000000001, Current: 0.02000115\n",
      "Voltage: 4.9, Current: 0.02000112\n",
      "Voltage: 5.0, Current: 0.02000113\n",
      "Voltage (V): [0.  0.1 0.2 0.3 0.4 0.5 0.6 0.7 0.8 0.9 1.  1.1 1.2 1.3 1.4 1.5 1.6 1.7\n",
      " 1.8 1.9 2.  2.1 2.2 2.3 2.4 2.5 2.6 2.7 2.8 2.9 3.  3.1 3.2 3.3 3.4 3.5\n",
      " 3.6 3.7 3.8 3.9 4.  4.1 4.2 4.3 4.4 4.5 4.6 4.7 4.8 4.9 5. ]\n",
      "Current (A): [-6.154726e-09, -2.578205e-10, -2.971285e-10, -2.357525e-10, -2.543721e-10, -2.378213e-10, -1.985133e-10, -2.77819e-10, -2.067886e-10, -2.09547e-10, -2.674746e-10, -1.714449e-11, 1.153119e-09, 9.81596e-09, 7.451003e-08, 5.690148e-07, 4.704701e-06, 4.895554e-05, 0.000476303, 0.002174383, 0.005724423, 0.01194119, 0.02000154, 0.02000148, 0.02000144, 0.02000142, 0.02000143, 0.02000144, 0.02000138, 0.02000142, 0.02000135, 0.02000131, 0.02000136, 0.02000137, 0.02000135, 0.02000129, 0.02000131, 0.02000123, 0.0200013, 0.02000124, 0.02000124, 0.02000119, 0.02000117, 0.02000119, 0.02000122, 0.02000118, 0.02000114, 0.02000121, 0.02000115, 0.02000112, 0.02000113]\n"
     ]
    },
    {
     "data": {
      "image/png": "[encoded data removed]",
      "text/plain": [
       "<Figure size 800x600 with 1 Axes>"
      ]
     },
     "metadata": {},
     "output_type": "display_data"
    }
   ],
   "source": [
    "import pyvisa\n",
    "import numpy as np\n",
    "import matplotlib.pyplot as plt\n",
    "\n",
    "# 1. PyVISA ResourceManager 생성 및 장치 연결\n",
    "rm = pyvisa.ResourceManager()\n",
    "instrument = rm.open_resource('USB0::0x05E6::0x2461::04628945::INSTR')  # 장치 주소 확인 후 수정\n",
    "\n",
    "# 2. 타임아웃 및 종료 문자 설정\n",
    "instrument.timeout = 10000  # 타임아웃을 10초로 설정\n",
    "instrument.write_termination = '\\n'\n",
    "instrument.read_termination = '\\n'\n",
    "\n",
    "# 3. 장치 초기화 및 오류 클리어\n",
    "instrument.write(\"*RST\")  # 장비 리셋\n",
    "instrument.write(\"*CLS\")  # 상태 클리어\n",
    "\n",
    "# 4. 다이오드 테스트 설정\n",
    "try:\n",
    "    # 소스 및 측정 모드 설정\n",
    "    instrument.write(\":SOURce:FUNCtion VOLTage\")          # 전압 소스 모드 설정\n",
    "    instrument.write(\":SENSe:FUNCtion 'CURRent'\")         # 전류 측정 모드 활성화\n",
    "    instrument.write(\":SOURce:VOLTage:RANGe:AUTO ON\")     # 자동 전압 범위 활성화\n",
    "    instrument.write(\":SENSe:CURRent:RANGe:AUTO ON\")      # 자동 전류 범위 활성화\n",
    "\n",
    "    # 보호 설정 (과전류 제한)\n",
    "    instrument.write(\":SOURce:VOLTage:ILIMit 0.02\")   # 최대 전류 제한 (20mA)\n",
    "\n",
    "    # 출력 활성화\n",
    "    instrument.write(\":OUTPut ON\")\n",
    "\n",
    "    # 데이터 수집 준비\n",
    "    voltages = np.arange(0, 5.1, 0.1)  # 테스트할 전압 범위 (0V ~ 5V, 스텝 0.1V)\n",
    "    currents = []\n",
    "\n",
    "    for voltage in voltages:\n",
    "        try:\n",
    "            # 전압 설정 및 명령 완료 대기\n",
    "            instrument.write(f\":SOURce:VOLTage {voltage}\")\n",
    "            instrument.query(\"*OPC?\")  # 명령 완료 대기\n",
    "\n",
    "            # 현재 전류 측정값 읽기\n",
    "            current = float(instrument.query(\":MEASure:CURRent?\").strip())\n",
    "            currents.append(current)\n",
    "            print(f\"Voltage: {voltage}, Current: {current}\")  # 디버깅 출력\n",
    "\n",
    "        except Exception as e:\n",
    "            print(f\"Error reading current at voltage {voltage}: {e}\")\n",
    "            currents.append(0)  # 오류 시 0을 추가\n",
    "\n",
    "except Exception as e:\n",
    "    print(f\"Setup error: {e}\")\n",
    "\n",
    "finally:\n",
    "    # 출력 비활성화 및 장비 닫기\n",
    "    instrument.write(\":OUTPut OFF\")\n",
    "    instrument.close()\n",
    "\n",
    "# 데이터 출력 확인 (옵션)\n",
    "print(\"Voltage (V):\", voltages)\n",
    "print(\"Current (A):\", currents)\n",
    "\n",
    "# 그래프 그리기\n",
    "if len(currents) == len(voltages):\n",
    "    plt.figure(figsize=(8, 6))\n",
    "    plt.plot(voltages, currents, marker='o', linestyle='-', color='b', label=\"I-V Curve\")\n",
    "    plt.title(\"Diode I-V Characteristics\")\n",
    "    plt.xlabel(\"Voltage (V)\")\n",
    "    plt.ylabel(\"Current (A)\")\n",
    "    plt.grid(True)\n",
    "    plt.legend()\n",
    "    plt.show()\n",
    "else:\n",
    "    print(\"Error: Voltage and Current data lengths do not match.\")\n"
   ]
  },
  {
   "cell_type": "code",
   "execution_count": 19,
   "metadata": {},
   "outputs": [
    {
     "name": "stdout",
     "output_type": "stream",
     "text": [
      "Instrument ID: KEITHLEY INSTRUMENTS,MODEL 2461,04628945,1.7.12b\n",
      "Measured Current: -5.93663e-10 A\n"
     ]
    }
   ],
   "source": [
    "import pyvisa\n",
    "\n",
    "# Initialize ResourceManager and connect to instrument\n",
    "rm = pyvisa.ResourceManager()\n",
    "instrument = rm.open_resource('USB0::0x05E6::0x2461::04628945::INSTR')\n",
    "\n",
    "# Configure termination characters and timeout\n",
    "instrument.write_termination = '\\n'\n",
    "instrument.read_termination = '\\n'\n",
    "instrument.timeout = 10000\n",
    "\n",
    "try:\n",
    "    # Clear errors and reset instrument\n",
    "    instrument.write(\"*CLS\")\n",
    "    instrument.write(\"*RST\")\n",
    "\n",
    "    # Verify communication with *IDN?\n",
    "    response = instrument.query(\"*IDN?\")\n",
    "    print(f\"Instrument ID: {response.strip()}\")\n",
    "\n",
    "    # Set source function and enable current protection\n",
    "    instrument.write(\":SOURce:FUNCtion CURRent\")          # Set source function to current\n",
    "    instrument.write(\":SENS:FUNCtion 'CURRent'\")          # Enable current measurement\n",
    "    instrument.write(\":SOURce:CURRent:RANGe:AUTO ON\")     # Enable auto-range for current source\n",
    "    instrument.write(\":SENS:CURRent:RANGe:AUTO ON\")       # Enable auto-range for current sense\n",
    "    instrument.write(\":SOURce:VOLTage:ILIMit 0.02\")   # Set current protection limit to 20 mA\n",
    "\n",
    "    # Activate output and perform measurement\n",
    "    current_value = float(instrument.query(\":MEASure:CURRent?\").strip())\n",
    "    print(f\"Measured Current: {current_value} A\")\n",
    "\n",
    "except Exception as e:\n",
    "    print(f\"Error occurred: {e}\")\n",
    "\n",
    "finally:\n",
    "    # Turn off output and close connection\n",
    "    instrument.write(\":OUTPut OFF\")\n",
    "    instrument.close()\n"
   ]
  }
 ],
 "metadata": {
  "kernelspec": {
   "display_name": "Python 3",
   "language": "python",
   "name": "python3"
  },
  "language_info": {
   "codemirror_mode": {
    "name": "ipython",
    "version": 3
   },
   "file_extension": ".py",
   "mimetype": "text/x-python",
   "name": "python",
   "nbconvert_exporter": "python",
   "pygments_lexer": "ipython3",
   "version": "3.11.9"
  }
 },
 "nbformat": 4,
 "nbformat_minor": 2
}
