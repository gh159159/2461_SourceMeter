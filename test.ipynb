{
 "cells": [
  {
   "cell_type": "markdown",
   "metadata": {},
   "source": [
    "# 라이브러리 설치"
   ]
  },
  {
   "cell_type": "code",
   "execution_count": 1,
   "metadata": {},
   "outputs": [
    {
     "name": "stdout",
     "output_type": "stream",
     "text": [
      "Collecting pyvisa\n",
      "  Downloading PyVISA-1.14.1-py3-none-any.whl.metadata (7.1 kB)\n",
      "Requirement already satisfied: typing-extensions in c:\\users\\gh159\\appdata\\local\\packages\\pythonsoftwarefoundation.python.3.11_qbz5n2kfra8p0\\localcache\\local-packages\\python311\\site-packages (from pyvisa) (4.12.2)\n",
      "Downloading PyVISA-1.14.1-py3-none-any.whl (176 kB)\n",
      "   ---------------------------------------- 0.0/176.7 kB ? eta -:--:--\n",
      "   -- ------------------------------------- 10.2/176.7 kB ? eta -:--:--\n",
      "   ---------------------------------------  174.1/176.7 kB 2.6 MB/s eta 0:00:01\n",
      "   ---------------------------------------- 176.7/176.7 kB 2.1 MB/s eta 0:00:00\n",
      "Installing collected packages: pyvisa\n",
      "Successfully installed pyvisa-1.14.1\n",
      "Note: you may need to restart the kernel to use updated packages.\n"
     ]
    },
    {
     "name": "stderr",
     "output_type": "stream",
     "text": [
      "\n",
      "[notice] A new release of pip is available: 24.0 -> 24.3.1\n",
      "[notice] To update, run: C:\\Users\\gh159\\AppData\\Local\\Microsoft\\WindowsApps\\PythonSoftwareFoundation.Python.3.11_qbz5n2kfra8p0\\python.exe -m pip install --upgrade pip\n"
     ]
    }
   ],
   "source": [
    "pip install pyvisa"
   ]
  },
  {
   "cell_type": "code",
   "execution_count": 2,
   "metadata": {},
   "outputs": [
    {
     "name": "stdout",
     "output_type": "stream",
     "text": [
      "Collecting pyvisa-py\n",
      "  Downloading PyVISA_py-0.7.2-py3-none-any.whl.metadata (6.6 kB)\n",
      "Requirement already satisfied: pyvisa>=1.13.0 in c:\\users\\gh159\\appdata\\local\\packages\\pythonsoftwarefoundation.python.3.11_qbz5n2kfra8p0\\localcache\\local-packages\\python311\\site-packages (from pyvisa-py) (1.14.1)\n",
      "Requirement already satisfied: typing-extensions in c:\\users\\gh159\\appdata\\local\\packages\\pythonsoftwarefoundation.python.3.11_qbz5n2kfra8p0\\localcache\\local-packages\\python311\\site-packages (from pyvisa-py) (4.12.2)\n",
      "Downloading PyVISA_py-0.7.2-py3-none-any.whl (75 kB)\n",
      "   ---------------------------------------- 0.0/75.6 kB ? eta -:--:--\n",
      "   ----- ---------------------------------- 10.2/75.6 kB ? eta -:--:--\n",
      "   ---------------------------------------- 75.6/75.6 kB 1.4 MB/s eta 0:00:00\n",
      "Installing collected packages: pyvisa-py\n",
      "Successfully installed pyvisa-py-0.7.2\n",
      "Note: you may need to restart the kernel to use updated packages.\n"
     ]
    },
    {
     "name": "stderr",
     "output_type": "stream",
     "text": [
      "\n",
      "[notice] A new release of pip is available: 24.0 -> 24.3.1\n",
      "[notice] To update, run: C:\\Users\\gh159\\AppData\\Local\\Microsoft\\WindowsApps\\PythonSoftwareFoundation.Python.3.11_qbz5n2kfra8p0\\python.exe -m pip install --upgrade pip\n"
     ]
    }
   ],
   "source": [
    "pip install pyvisa-py"
   ]
  },
  {
   "cell_type": "code",
   "execution_count": 3,
   "metadata": {},
   "outputs": [
    {
     "name": "stdout",
     "output_type": "stream",
     "text": [
      "Collecting zeroconf\n",
      "  Downloading zeroconf-0.137.2-cp311-cp311-win_amd64.whl.metadata (6.0 kB)\n",
      "Collecting ifaddr>=0.1.7 (from zeroconf)\n",
      "  Downloading ifaddr-0.2.0-py3-none-any.whl.metadata (4.9 kB)\n",
      "Downloading zeroconf-0.137.2-cp311-cp311-win_amd64.whl (1.7 MB)\n",
      "   ---------------------------------------- 0.0/1.7 MB ? eta -:--:--\n",
      "   - -------------------------------------- 0.1/1.7 MB 1.6 MB/s eta 0:00:01\n",
      "   ---------- ----------------------------- 0.5/1.7 MB 5.6 MB/s eta 0:00:01\n",
      "   -------------------- ------------------- 0.9/1.7 MB 6.8 MB/s eta 0:00:01\n",
      "   --------------------------- ------------ 1.2/1.7 MB 6.7 MB/s eta 0:00:01\n",
      "   ---------------------------- ----------- 1.2/1.7 MB 5.8 MB/s eta 0:00:01\n",
      "   ---------------------------------------- 1.7/1.7 MB 6.6 MB/s eta 0:00:00\n",
      "Downloading ifaddr-0.2.0-py3-none-any.whl (12 kB)\n",
      "Installing collected packages: ifaddr, zeroconf\n",
      "Successfully installed ifaddr-0.2.0 zeroconf-0.137.2\n",
      "Note: you may need to restart the kernel to use updated packages.\n"
     ]
    },
    {
     "name": "stderr",
     "output_type": "stream",
     "text": [
      "\n",
      "[notice] A new release of pip is available: 24.0 -> 24.3.1\n",
      "[notice] To update, run: C:\\Users\\gh159\\AppData\\Local\\Microsoft\\WindowsApps\\PythonSoftwareFoundation.Python.3.11_qbz5n2kfra8p0\\python.exe -m pip install --upgrade pip\n"
     ]
    }
   ],
   "source": [
    "pip install zeroconf"
   ]
  },
  {
   "cell_type": "code",
   "execution_count": 4,
   "metadata": {},
   "outputs": [
    {
     "name": "stdout",
     "output_type": "stream",
     "text": [
      "Collecting gpib-ctypes\n",
      "  Downloading gpib_ctypes-0.3.0-py2.py3-none-any.whl.metadata (2.9 kB)\n",
      "Downloading gpib_ctypes-0.3.0-py2.py3-none-any.whl (16 kB)\n",
      "Installing collected packages: gpib-ctypes\n",
      "Successfully installed gpib-ctypes-0.3.0\n",
      "Note: you may need to restart the kernel to use updated packages.\n"
     ]
    },
    {
     "name": "stderr",
     "output_type": "stream",
     "text": [
      "\n",
      "[notice] A new release of pip is available: 24.0 -> 24.3.1\n",
      "[notice] To update, run: C:\\Users\\gh159\\AppData\\Local\\Microsoft\\WindowsApps\\PythonSoftwareFoundation.Python.3.11_qbz5n2kfra8p0\\python.exe -m pip install --upgrade pip\n"
     ]
    }
   ],
   "source": [
    "pip install gpib-ctypes"
   ]
  },
  {
   "cell_type": "markdown",
   "metadata": {},
   "source": [
    "# 기본 구조"
   ]
  },
  {
   "cell_type": "code",
   "execution_count": 1,
   "metadata": {},
   "outputs": [
    {
     "name": "stdout",
     "output_type": "stream",
     "text": [
      "('USB::0x05E6::0x2461::04628945::INSTR',)\n"
     ]
    }
   ],
   "source": [
    "import pyvisa\n",
    "rm = pyvisa.ResourceManager()\n",
    "print(rm.list_resources())"
   ]
  },
  {
   "cell_type": "code",
   "execution_count": 13,
   "metadata": {},
   "outputs": [],
   "source": [
    "instrument = rm.open_resource('USB::0x05E6::0x2461::04628945::INSTR')\n",
    "# instrument = rm.open_resource('ASRL3::INSTR')"
   ]
  },
  {
   "cell_type": "code",
   "execution_count": 14,
   "metadata": {},
   "outputs": [
    {
     "name": "stdout",
     "output_type": "stream",
     "text": [
      "Connected to: USBInstrument at USB0::0x05E6::0x2461::04628945::0::INSTR\n"
     ]
    }
   ],
   "source": [
    "try:\n",
    "    # Query the instrument ID\n",
    "    idn_response = instrument\n",
    "    print(\"Connected to:\", idn_response)\n",
    "\n",
    "except pyvisa.VisaIOError as e:\n",
    "    print(f\"An error occurred: {e}\")"
   ]
  },
  {
   "cell_type": "code",
   "execution_count": 2,
   "metadata": {},
   "outputs": [
    {
     "name": "stdout",
     "output_type": "stream",
     "text": [
      "Voltage: 0.0, Current: -1.146045e-11\n",
      "Voltage: 0.1, Current: 2.984326e-12\n",
      "Voltage: 0.2, Current: 1.138948e-11\n",
      "Voltage: 0.30000000000000004, Current: 8.467022e-11\n",
      "Voltage: 0.4, Current: 3.690228e-09\n",
      "Voltage: 0.5, Current: 1.725951e-07\n",
      "Voltage: 0.6000000000000001, Current: 8.047573e-06\n",
      "Voltage: 0.7000000000000001, Current: 0.0003699838\n",
      "Voltage: 0.8, Current: 0.01446265\n",
      "Voltage: 0.9, Current: 0.02000052\n",
      "Voltage: 1.0, Current: 0.02000061\n",
      "Voltage: 1.1, Current: 0.02000056\n",
      "Voltage: 1.2000000000000002, Current: 0.02000049\n",
      "Voltage: 1.3, Current: 0.02000061\n",
      "Voltage: 1.4000000000000001, Current: 0.02000071\n",
      "Voltage: 1.5, Current: 0.02000061\n",
      "Voltage: 1.6, Current: 0.02000065\n",
      "Voltage: 1.7000000000000002, Current: 0.02000066\n",
      "Voltage: 1.8, Current: 0.02000056\n",
      "Voltage: 1.9000000000000001, Current: 0.02000069\n",
      "Voltage: 2.0, Current: 0.02000066\n",
      "Voltage: 2.1, Current: 0.02000055\n",
      "Voltage: 2.2, Current: 0.0199998\n",
      "Voltage: 2.3000000000000003, Current: 0.01999973\n",
      "Voltage: 2.4000000000000004, Current: 0.01999977\n",
      "Voltage: 2.5, Current: 0.01999976\n",
      "Voltage: 2.6, Current: 0.01999976\n",
      "Voltage: 2.7, Current: 0.01999981\n",
      "Voltage: 2.8000000000000003, Current: 0.01999983\n",
      "Voltage: 2.9000000000000004, Current: 0.01999986\n",
      "Voltage: 3.0, Current: 0.01999981\n",
      "Voltage: 3.1, Current: 0.01999986\n",
      "Voltage: 3.2, Current: 0.01999981\n",
      "Voltage: 3.3000000000000003, Current: 0.01999989\n",
      "Voltage: 3.4000000000000004, Current: 0.01999988\n",
      "Voltage: 3.5, Current: 0.01999997\n",
      "Voltage: 3.6, Current: 0.01999998\n",
      "Voltage: 3.7, Current: 0.0199999\n",
      "Voltage: 3.8000000000000003, Current: 0.01999998\n",
      "Voltage: 3.9000000000000004, Current: 0.01999988\n",
      "Voltage: 4.0, Current: 0.01999995\n",
      "Voltage: 4.1000000000000005, Current: 0.01999992\n",
      "Voltage: 4.2, Current: 0.01999993\n",
      "Voltage: 4.3, Current: 0.01999998\n",
      "Voltage: 4.4, Current: 0.02000001\n",
      "Voltage: 4.5, Current: 0.01999996\n",
      "Voltage: 4.6000000000000005, Current: 0.02\n",
      "Voltage: 4.7, Current: 0.01999997\n",
      "Voltage: 4.800000000000001, Current: 0.02000008\n",
      "Voltage: 4.9, Current: 0.02000001\n",
      "Voltage: 5.0, Current: 0.02000007\n",
      "Voltage (V): [0.  0.1 0.2 0.3 0.4 0.5 0.6 0.7 0.8 0.9 1.  1.1 1.2 1.3 1.4 1.5 1.6 1.7\n",
      " 1.8 1.9 2.  2.1 2.2 2.3 2.4 2.5 2.6 2.7 2.8 2.9 3.  3.1 3.2 3.3 3.4 3.5\n",
      " 3.6 3.7 3.8 3.9 4.  4.1 4.2 4.3 4.4 4.5 4.6 4.7 4.8 4.9 5. ]\n",
      "Current (A): [-1.146045e-11, 2.984326e-12, 1.138948e-11, 8.467022e-11, 3.690228e-09, 1.725951e-07, 8.047573e-06, 0.0003699838, 0.01446265, 0.02000052, 0.02000061, 0.02000056, 0.02000049, 0.02000061, 0.02000071, 0.02000061, 0.02000065, 0.02000066, 0.02000056, 0.02000069, 0.02000066, 0.02000055, 0.0199998, 0.01999973, 0.01999977, 0.01999976, 0.01999976, 0.01999981, 0.01999983, 0.01999986, 0.01999981, 0.01999986, 0.01999981, 0.01999989, 0.01999988, 0.01999997, 0.01999998, 0.0199999, 0.01999998, 0.01999988, 0.01999995, 0.01999992, 0.01999993, 0.01999998, 0.02000001, 0.01999996, 0.02, 0.01999997, 0.02000008, 0.02000001, 0.02000007]\n"
     ]
    },
    {
     "data": {
      "image/png": "[encoded data removed]",
      "text/plain": [
       "<Figure size 800x600 with 1 Axes>"
      ]
     },
     "metadata": {},
     "output_type": "display_data"
    }
   ],
   "source": [
    "import pyvisa\n",
    "import numpy as np\n",
    "import matplotlib.pyplot as plt\n",
    "\n",
    "# 1. PyVISA ResourceManager 생성 및 장치 연결\n",
    "rm = pyvisa.ResourceManager()\n",
    "# instrument = rm.open_resource('USB0::0x05E6::0x2461::04628945::INSTR')\n",
    "instrument = rm.open_resource('GPIB0::20::INSTR')\n",
    "\n",
    "# 2. 타임아웃 및 종료 문자 설정\n",
    "instrument.timeout = 10000  # 타임아웃을 10초로 설정\n",
    "instrument.write_termination = '\\n'\n",
    "instrument.read_termination = '\\n'\n",
    "\n",
    "# 3. 장치 초기화 및 오류 클리어\n",
    "instrument.write(\"*RST\")  # 장비 리셋\n",
    "instrument.write(\"*CLS\")  # 상태 클리어\n",
    "\n",
    "instrument.write(\":FORMat:ELEMents CURR\")\n",
    "\n",
    "# 4. 다이오드 테스트 설정\n",
    "try:\n",
    "    # 소스 및 측정 모드 설정\n",
    "    instrument.write(\":SOURce:FUNCtion VOLTage\")          # 전압 소스 모드 설정\n",
    "    instrument.write(\":SENSe:FUNCtion 'CURRent'\")         # 전류 측정 모드 활성화\n",
    "    instrument.write(\":SOURce:VOLTage:RANGe:AUTO ON\")     # 자동 전압 범위 활성화\n",
    "    instrument.write(\":SENSe:CURRent:RANGe:AUTO ON\")      # 자동 전류 범위 활성화\n",
    "\n",
    "    # 보호 설정 (과전류 제한)\n",
    "    # instrument.write(\":SOURce:VOLTage:ILIMit 0.02\")\n",
    "    instrument.write(f\"SENS:CURR:PROT 0.02\")\n",
    "\n",
    "    # 출력 활성화\n",
    "    instrument.write(\":OUTPut ON\")\n",
    "\n",
    "    # 데이터 수집 준비\n",
    "    voltages = np.arange(0, 5.1, 0.1)  # 테스트할 전압 범위 (0V ~ 5V, 스텝 0.1V)\n",
    "    currents = []\n",
    "\n",
    "    for voltage in voltages:\n",
    "        try:\n",
    "            # 전압 설정 및 명령 완료 대기\n",
    "            instrument.write(f\":SOURce:VOLTage {voltage}\")\n",
    "            instrument.query(\"*OPC?\")  # 명령 완료 대기\n",
    "\n",
    "            # 현재 전류 측정값 읽기\n",
    "            current = float(instrument.query(\":MEASure:CURRent?\").strip())\n",
    "            currents.append(current)\n",
    "            print(f\"Voltage: {voltage}, Current: {current}\")  # 디버깅 출력\n",
    "\n",
    "        except Exception as e:\n",
    "            print(f\"Error reading current at voltage {voltage}: {e}\")\n",
    "            currents.append(0)  # 오류 시 0을 추가\n",
    "\n",
    "except Exception as e:\n",
    "    print(f\"Setup error: {e}\")\n",
    "\n",
    "finally:\n",
    "    # 출력 비활성화 및 장비 닫기\n",
    "    instrument.write(\":OUTPut OFF\")\n",
    "    instrument.close()\n",
    "\n",
    "# 데이터 출력 확인 (옵션)\n",
    "print(\"Voltage (V):\", voltages)\n",
    "print(\"Current (A):\", currents)\n",
    "\n",
    "# 그래프 그리기\n",
    "if len(currents) == len(voltages):\n",
    "    plt.figure(figsize=(8, 6))\n",
    "    plt.plot(voltages, currents, marker='o', linestyle='-', color='b', label=\"I-V Curve\")\n",
    "    plt.title(\"Diode I-V Characteristics\")\n",
    "    plt.xlabel(\"Voltage (V)\")\n",
    "    plt.ylabel(\"Current (A)\")\n",
    "    plt.grid(True)\n",
    "    plt.legend()\n",
    "    plt.show()\n",
    "else:\n",
    "    print(\"Error: Voltage and Current data lengths do not match.\")\n"
   ]
  },
  {
   "cell_type": "code",
   "execution_count": 64,
   "metadata": {},
   "outputs": [
    {
     "name": "stdout",
     "output_type": "stream",
     "text": [
      "Voltage: 0.0, Current: 1.485919e-10\n",
      "Voltage: 0.1, Current: 4.282641e-11\n",
      "Voltage: 0.2, Current: -4.129617e-11\n",
      "Voltage: 0.30000000000000004, Current: 1.225496e-10\n",
      "Voltage: 0.4, Current: 2.381288e-09\n",
      "Voltage: 0.5, Current: 1.114372e-07\n",
      "Voltage: 0.6000000000000001, Current: 5.485579e-06\n",
      "Voltage: 0.7000000000000001, Current: 0.0001049993\n",
      "Voltage: 0.8, Current: 0.0001049991\n",
      "Voltage: 0.9, Current: 0.0001049992\n",
      "Voltage: 1.0, Current: 0.0001049988\n",
      "Voltage: 1.1, Current: 0.0001049993\n",
      "Voltage: 1.2000000000000002, Current: 0.000104999\n",
      "Voltage: 1.3, Current: 0.0001049989\n",
      "Voltage: 1.4000000000000001, Current: 0.000104999\n",
      "Voltage: 1.5, Current: 0.0001049989\n",
      "Voltage: 1.6, Current: 0.0001049986\n",
      "Voltage: 1.7000000000000002, Current: 0.0001049988\n",
      "Voltage: 1.8, Current: 0.0001049988\n",
      "Voltage: 1.9000000000000001, Current: 0.0001049988\n",
      "Voltage: 2.0, Current: 0.0001049988\n",
      "Voltage: 2.1, Current: 0.000104999\n",
      "Voltage: 2.2, Current: 0.0001049992\n",
      "Voltage: 2.3000000000000003, Current: 0.0001049994\n",
      "Voltage: 2.4000000000000004, Current: 0.0001049995\n",
      "Voltage: 2.5, Current: 0.0001049994\n",
      "Voltage: 2.6, Current: 0.0001049992\n",
      "Voltage: 2.7, Current: 0.0001049994\n",
      "Voltage: 2.8000000000000003, Current: 0.0001049994\n",
      "Voltage: 2.9000000000000004, Current: 0.0001049994\n",
      "Voltage: 3.0, Current: 0.0001049993\n",
      "Voltage: 3.1, Current: 0.0001049992\n",
      "Voltage: 3.2, Current: 0.0001049993\n",
      "Voltage: 3.3000000000000003, Current: 0.0001049994\n",
      "Voltage: 3.4000000000000004, Current: 0.0001049994\n",
      "Voltage: 3.5, Current: 0.0001049996\n",
      "Voltage: 3.6, Current: 0.0001049994\n",
      "Voltage: 3.7, Current: 0.0001049994\n",
      "Voltage: 3.8000000000000003, Current: 0.0001049994\n",
      "Voltage: 3.9000000000000004, Current: 0.0001049993\n",
      "Voltage: 4.0, Current: 0.0001049994\n",
      "Voltage: 4.1000000000000005, Current: 0.0001049991\n",
      "Voltage: 4.2, Current: 0.0001049993\n",
      "Voltage: 4.3, Current: 0.0001049994\n",
      "Voltage: 4.4, Current: 0.0001049991\n",
      "Voltage: 4.5, Current: 0.0001049993\n",
      "Voltage: 4.6000000000000005, Current: 0.0001049994\n",
      "Voltage: 4.7, Current: 0.0001049993\n",
      "Voltage: 4.800000000000001, Current: 0.0001049993\n",
      "Voltage: 4.9, Current: 0.0001049996\n",
      "Voltage: 5.0, Current: 0.0001049992\n",
      "Voltage (V): [0.  0.1 0.2 0.3 0.4 0.5 0.6 0.7 0.8 0.9 1.  1.1 1.2 1.3 1.4 1.5 1.6 1.7\n",
      " 1.8 1.9 2.  2.1 2.2 2.3 2.4 2.5 2.6 2.7 2.8 2.9 3.  3.1 3.2 3.3 3.4 3.5\n",
      " 3.6 3.7 3.8 3.9 4.  4.1 4.2 4.3 4.4 4.5 4.6 4.7 4.8 4.9 5. ]\n",
      "Current (A): [1.485919e-10, 4.282641e-11, -4.129617e-11, 1.225496e-10, 2.381288e-09, 1.114372e-07, 5.485579e-06, 0.0001049993, 0.0001049991, 0.0001049992, 0.0001049988, 0.0001049993, 0.000104999, 0.0001049989, 0.000104999, 0.0001049989, 0.0001049986, 0.0001049988, 0.0001049988, 0.0001049988, 0.0001049988, 0.000104999, 0.0001049992, 0.0001049994, 0.0001049995, 0.0001049994, 0.0001049992, 0.0001049994, 0.0001049994, 0.0001049994, 0.0001049993, 0.0001049992, 0.0001049993, 0.0001049994, 0.0001049994, 0.0001049996, 0.0001049994, 0.0001049994, 0.0001049994, 0.0001049993, 0.0001049994, 0.0001049991, 0.0001049993, 0.0001049994, 0.0001049991, 0.0001049993, 0.0001049994, 0.0001049993, 0.0001049993, 0.0001049996, 0.0001049992]\n"
     ]
    },
    {
     "data": {
      "image/png": "[encoded data removed]",
      "text/plain": [
       "<Figure size 800x600 with 1 Axes>"
      ]
     },
     "metadata": {},
     "output_type": "display_data"
    }
   ],
   "source": [
    "import pyvisa\n",
    "import numpy as np\n",
    "import matplotlib.pyplot as plt\n",
    "\n",
    "# 1. PyVISA ResourceManager 생성 및 장치 연결\n",
    "rm = pyvisa.ResourceManager()\n",
    "\n",
    "# 실제 GPIB 주소 확인 필요\n",
    "instrument = rm.open_resource('GPIB0::24::INSTR')  \n",
    "\n",
    "# 2. 타임아웃 및 종료 문자 설정\n",
    "instrument.timeout = 20000  # 타임아웃을 20초로 설정\n",
    "instrument.write_termination = '\\r\\n'  # Keithley 장비는 '\\r\\n' 사용\n",
    "instrument.read_termination = '\\r\\n'\n",
    "\n",
    "# 3. 장치 초기화 및 오류 클리어\n",
    "instrument.write(\"*RST\")  # 장비 리셋\n",
    "instrument.write(\"*CLS\")  # 상태 클리어\n",
    "\n",
    "# 데이터 포맷 설정 (전류만 반환)\n",
    "instrument.write(\":FORMat:ELEMents CURRent\")\n",
    "\n",
    "# 4. 다이오드 테스트 설정\n",
    "try:\n",
    "    # 소스 및 측정 모드 설정\n",
    "    instrument.write(\":SOURce:FUNCtion VOLTage\")          # 전압 소스 모드 설정\n",
    "    instrument.write(\":SENSe:FUNCtion:ON \\\"CURRent\\\"\")    # 전류 측정 모드 활성화\n",
    "    instrument.write(\":SOURce:VOLTage:RANGe:AUTO ON\")     # 자동 전압 범위 활성화\n",
    "    instrument.write(\":SENSe:CURRent:RANGe:AUTO ON\")      # 자동 전류 범위 활성화\n",
    "\n",
    "    # 보호 설정 (과전류 제한)\n",
    "    instrument.write(\":SOURce:CURRent:LIMit 0.02\")        # 최대 전류 제한 (20mA)\n",
    "\n",
    "    # 출력 활성화\n",
    "    instrument.write(\":OUTPut ON\")\n",
    "\n",
    "    # 데이터 수집 준비\n",
    "    voltages = np.arange(0, 5.1, 0.1)  # 테스트할 전압 범위 (0V ~ 5V, 스텝 0.1V)\n",
    "    currents = []\n",
    "\n",
    "    for voltage in voltages:\n",
    "        try:\n",
    "            # 전압 설정 및 명령 완료 대기\n",
    "            instrument.write(f\":SOURce:VOLTage {voltage}\")\n",
    "            instrument.query(\"*OPC?\")  # 명령 완료 대기\n",
    "\n",
    "            # 현재 전류 측정값 읽기\n",
    "            current = float(instrument.query(\":MEASure:CURRent?\").strip())\n",
    "            currents.append(current)\n",
    "            print(f\"Voltage: {voltage}, Current: {current}\")  # 디버깅 출력\n",
    "\n",
    "        except Exception as e:\n",
    "            print(f\"Error reading current at voltage {voltage}: {e}\")\n",
    "            currents.append(0)  # 오류 시 0을 추가\n",
    "\n",
    "except Exception as e:\n",
    "    print(f\"Setup error: {e}\")\n",
    "\n",
    "finally:\n",
    "    # 출력 비활성화 및 장비 닫기\n",
    "    instrument.write(\":OUTPut OFF\")\n",
    "    instrument.close()\n",
    "\n",
    "# 데이터 출력 확인 (옵션)\n",
    "print(\"Voltage (V):\", voltages)\n",
    "print(\"Current (A):\", currents)\n",
    "\n",
    "# 그래프 그리기\n",
    "if len(currents) == len(voltages):\n",
    "    plt.figure(figsize=(8, 6))\n",
    "    plt.plot(voltages, currents, marker='o', linestyle='-', color='b', label=\"I-V Curve\")\n",
    "    plt.title(\"Diode I-V Characteristics\")\n",
    "    plt.xlabel(\"Voltage (V)\")\n",
    "    plt.ylabel(\"Current (A)\")\n",
    "    plt.grid(True)\n",
    "    plt.legend()\n",
    "    plt.show()\n",
    "else:\n",
    "    print(\"Error: Voltage and Current data lengths do not match.\")\n"
   ]
  },
  {
   "cell_type": "code",
   "execution_count": 49,
   "metadata": {},
   "outputs": [
    {
     "name": "stdout",
     "output_type": "stream",
     "text": [
      "Voltage: 0.0 V, Current: 8.104171e-11 A\n",
      "Voltage: 0.1 V, Current: 5.77933e-11 A\n",
      "Voltage: 0.2 V, Current: 5.834209e-11 A\n",
      "Voltage: 0.30000000000000004 V, Current: 1.203049e-10 A\n",
      "Voltage: 0.4 V, Current: 2.331753e-09 A\n",
      "Voltage: 0.5 V, Current: 1.123281e-07 A\n",
      "Voltage: 0.6000000000000001 V, Current: 5.528185e-06 A\n",
      "Voltage: 0.7000000000000001 V, Current: 0.0001049992 A\n",
      "Voltage: 0.8 V, Current: 0.0001049995 A\n",
      "Voltage: 0.9 V, Current: 0.0001049993 A\n",
      "Voltage: 1.0 V, Current: 0.0001049991 A\n",
      "Voltage: 1.1 V, Current: 0.0001049989 A\n",
      "Voltage: 1.2000000000000002 V, Current: 0.000104999 A\n",
      "Voltage: 1.3 V, Current: 0.000104999 A\n",
      "Voltage: 1.4000000000000001 V, Current: 0.0001049989 A\n",
      "Voltage: 1.5 V, Current: 0.0001049989 A\n",
      "Voltage: 1.6 V, Current: 0.0001049988 A\n",
      "Voltage: 1.7000000000000002 V, Current: 0.0001049988 A\n",
      "Voltage: 1.8 V, Current: 0.0001049986 A\n",
      "Voltage: 1.9000000000000001 V, Current: 0.0001049986 A\n",
      "Voltage: 2.0 V, Current: 0.0001049988 A\n",
      "Voltage: 2.1 V, Current: 0.0001049986 A\n",
      "Voltage: 2.2 V, Current: 0.0001049996 A\n",
      "Voltage: 2.3000000000000003 V, Current: 0.0001049993 A\n",
      "Voltage: 2.4000000000000004 V, Current: 0.0001049996 A\n",
      "Voltage: 2.5 V, Current: 0.0001049995 A\n",
      "Voltage: 2.6 V, Current: 0.0001049995 A\n",
      "Voltage: 2.7 V, Current: 0.0001049994 A\n",
      "Voltage: 2.8000000000000003 V, Current: 0.0001049997 A\n",
      "Voltage: 2.9000000000000004 V, Current: 0.0001049995 A\n",
      "Voltage: 3.0 V, Current: 0.0001049996 A\n",
      "Voltage: 3.1 V, Current: 0.0001049995 A\n",
      "Voltage: 3.2 V, Current: 0.0001049997 A\n",
      "Voltage: 3.3000000000000003 V, Current: 0.0001049994 A\n",
      "Voltage: 3.4000000000000004 V, Current: 0.0001049995 A\n",
      "Voltage: 3.5 V, Current: 0.0001049992 A\n",
      "Voltage: 3.6 V, Current: 0.0001049995 A\n",
      "Voltage: 3.7 V, Current: 0.0001049996 A\n",
      "Voltage: 3.8000000000000003 V, Current: 0.0001049996 A\n",
      "Voltage: 3.9000000000000004 V, Current: 0.0001049993 A\n",
      "Voltage: 4.0 V, Current: 0.0001049993 A\n",
      "Voltage: 4.1000000000000005 V, Current: 0.0001049994 A\n",
      "Voltage: 4.2 V, Current: 0.0001049993 A\n",
      "Voltage: 4.3 V, Current: 0.0001049995 A\n",
      "Voltage: 4.4 V, Current: 0.0001049998 A\n",
      "Voltage: 4.5 V, Current: 0.0001049996 A\n",
      "Voltage: 4.6000000000000005 V, Current: 0.0001049991 A\n",
      "Voltage: 4.7 V, Current: 0.0001049994 A\n",
      "Voltage: 4.800000000000001 V, Current: 0.0001049997 A\n",
      "Voltage: 4.9 V, Current: 0.0001049993 A\n",
      "Voltage: 5.0 V, Current: 0.0001049996 A\n"
     ]
    },
    {
     "data": {
      "image/png": "[encoded data removed]",
      "text/plain": [
       "<Figure size 640x480 with 1 Axes>"
      ]
     },
     "metadata": {},
     "output_type": "display_data"
    }
   ],
   "source": [
    "import pyvisa\n",
    "import numpy as np\n",
    "import matplotlib.pyplot as plt\n",
    "import logging\n",
    "\n",
    "# 모든 로거 핸들러 제거\n",
    "for handler in logging.root.handlers[:]:\n",
    "    logging.root.removeHandler(handler)\n",
    "\n",
    "# 로깅 수준 설정\n",
    "logging.basicConfig(level=logging.WARNING)\n",
    "\n",
    "\n",
    "\n",
    "def configure_instrument(instrument):\n",
    "    # 장치 식별\n",
    "    idn = instrument.query(\"*IDN?\").strip()\n",
    "    is_2410 = \"2410\" in idn\n",
    "    is_2461 = \"2461\" in idn\n",
    "\n",
    "    if not (is_2410 or is_2461):\n",
    "        raise ValueError(\"Unsupported Keithley model\")\n",
    "\n",
    "    # 공통 설정\n",
    "    instrument.write(\"*RST\")\n",
    "    instrument.write(\"*CLS\")\n",
    "    instrument.write(\":SOUR:FUNC VOLT\")\n",
    "    instrument.write(\":SENS:FUNC 'CURR'\")\n",
    "    # 2410 전용 포맷 설정\n",
    "    if is_2410:\n",
    "        instrument.write(\":FORM:ELEM CURR\")  # 2410에서만 필요\n",
    "\n",
    "    instrument.write(\":SOUR:VOLT:RANG:AUTO ON\")\n",
    "    instrument.write(\":SENS:CURR:RANG:AUTO ONCE\" if is_2410 else \":SENS:CURR:RANG:AUTO ON\")\n",
    "    instrument.write(\":SOUR:VOLT:ILIM 0.02\")\n",
    "\n",
    "    return is_2410  # 측정 데이터 처리 방식 분기를 위해 반환\n",
    "\n",
    "# 장치 연결\n",
    "rm = pyvisa.ResourceManager()\n",
    "# instrument = rm.open_resource('USB0::0x05E6::0x2461::04628945::INSTR')\n",
    "instrument = rm.open_resource('GPIB0::24::INSTR')\n",
    "\n",
    "# 통신 설정\n",
    "instrument.timeout = 10000\n",
    "instrument.write_termination = '\\n'\n",
    "instrument.read_termination = '\\n'\n",
    "\n",
    "try:\n",
    "    is_2410 = configure_instrument(instrument)\n",
    "    instrument.write(\":OUTP ON\")\n",
    "\n",
    "    # 데이터 수집\n",
    "    voltages = np.arange(0, 5.1, 0.1)\n",
    "    currents = []\n",
    "\n",
    "    for v in voltages:\n",
    "        instrument.write(f\":SOUR:VOLT {v}\")\n",
    "        instrument.query(\"*OPC?\")\n",
    "        \n",
    "        # 측정값 읽기 (장치별 처리)\n",
    "        if is_2410:\n",
    "            raw = instrument.query(\":MEAS:CURR?\")\n",
    "            current = float(raw.strip())\n",
    "        else:  # 2461: 기본적으로 전류값만 반환\n",
    "            raw = instrument.query(\":MEAS:CURR?\")\n",
    "            current = float(raw.split(',')[0])  # 다중 필드시 첫 번째 값 추출\n",
    "        \n",
    "        currents.append(current)\n",
    "        print(f\"Voltage: {v} V, Current: {current} A\")\n",
    "\n",
    "except Exception as e:\n",
    "    print(f\"Error: {str(e)}\")\n",
    "\n",
    "finally:\n",
    "    instrument.write(\":OUTP OFF\")\n",
    "    instrument.close()\n",
    "\n",
    "# 그래프 출력\n",
    "plt.plot(voltages, currents, 'b-o')\n",
    "plt.title(\"I-V Curve\")\n",
    "plt.xlabel(\"Voltage (V)\")\n",
    "plt.ylabel(\"Current (A)\")\n",
    "plt.grid(True)\n",
    "plt.show()\n"
   ]
  },
  {
   "cell_type": "code",
   "execution_count": 47,
   "metadata": {},
   "outputs": [
    {
     "name": "stderr",
     "output_type": "stream",
     "text": [
      "DEBUG:pyvisa:No visa library specified, trying to find alternatives.\n",
      "DEBUG:pyvisa:Environment variable PYVISA_LIBRARY is unset.\n",
      "DEBUG:pyvisa:No user defined configuration\n",
      "DEBUG:pyvisa:Automatically found library files: [None, 'C:\\\\Windows\\\\system32\\\\visa32.dll', 'C:\\\\Windows\\\\system32\\\\visa32.dll', 'C:\\\\Windows\\\\system32\\\\visa64.dll', 'C:\\\\Windows\\\\system32\\\\visa64.dll']\n",
      "DEBUG:pyvisa:No user defined library files\n",
      "DEBUG:pyvisa:The IVI implementation available\n",
      "DEBUG:pyvisa:No user defined configuration\n",
      "DEBUG:pyvisa:Automatically found library files: [None, 'C:\\\\Windows\\\\system32\\\\visa32.dll', 'C:\\\\Windows\\\\system32\\\\visa32.dll', 'C:\\\\Windows\\\\system32\\\\visa64.dll', 'C:\\\\Windows\\\\system32\\\\visa64.dll']\n",
      "DEBUG:pyvisa:No user defined library files\n",
      "DEBUG:pyvisa:Reusing ResourceManager with session 1\n",
      "DEBUG:pyvisa:viParseRsrcEx(1, 'GPIB0::24::INSTR', 'c_ushort(1)', 'c_ushort(0)', <ctypes.c_char_Array_256 object at 0x0000018B505425D0>, <ctypes.c_char_Array_256 object at 0x0000018B50542C50>, <ctypes.c_char_Array_256 object at 0x0000018B505430D0>) -> 0\n",
      "DEBUG:pyvisa:GPIB0::24::INSTR - opening ...\n",
      "DEBUG:pyvisa:viOpen(1, 'GPIB0::24::INSTR', <AccessModes.no_lock: 0>, 0, '<ViObject object at 0x0000018B505425D0>') -> 0\n",
      "DEBUG:pyvisa:GPIB0::24::INSTR - is open with session 45\n",
      "DEBUG:pyvisa:viSetAttribute(45, 1073676314, 10000) -> 0\n",
      "DEBUG:pyvisa:viSetAttribute(45, <ResourceAttribute.termchar: 1073676312>, 10) -> 0\n",
      "DEBUG:pyvisa:viSetAttribute(45, <ResourceAttribute.termchar_enabled: 1073676344>, 1) -> 0\n",
      "DEBUG:pyvisa:viWrite(45, b'*RST\\n', 5, 'c_ulong(5)') -> 0\n",
      "DEBUG:pyvisa:viWrite(45, b'*CLS\\n', 5, 'c_ulong(5)') -> 0\n",
      "DEBUG:pyvisa:viWrite(45, b':SOUR:FUNC VOLT\\n', 16, 'c_ulong(16)') -> 0\n",
      "DEBUG:pyvisa:viWrite(45, b\":SENS:FUNC 'CURR'\\n\", 18, 'c_ulong(18)') -> 0\n",
      "DEBUG:pyvisa:viWrite(45, b':SOUR:VOLT:RANG:AUTO ON\\n', 24, 'c_ulong(24)') -> 0\n",
      "DEBUG:pyvisa:viWrite(45, b':SENS:CURR:RANG:AUTO ON\\n', 24, 'c_ulong(24)') -> 0\n",
      "DEBUG:pyvisa:viWrite(45, b':READ?\\n', 7, 'c_ulong(7)') -> 0\n",
      "DEBUG:pyvisa:GPIB0::24::INSTR - reading 20480 bytes (last status <StatusCode.success_max_count_read: 1073676294>)\n",
      "DEBUG:pyvisa:viRead(45, <ctypes.c_char_Array_20480 object at 0x0000018B4DC71050>, 20480, 'c_ulong(0)') -> -1073807339\n",
      "DEBUG:pyvisa:GPIB0::24::INSTR - exception while reading: VI_ERROR_TMO (-1073807339): Timeout expired before operation completed.\n",
      "Buffer content: bytearray(b'')\n",
      "DEBUG:pyvisa:GPIB0::24::INSTR - closing\n",
      "DEBUG:pyvisa:viDisableEvent(45, <EventType.all_enabled: 1073709055>, <EventMechanism.all: 65535>) -> 0\n",
      "DEBUG:pyvisa:viDiscardEvents(45, <EventType.all_enabled: 1073709055>, <EventMechanism.all: 65535>) -> 1073676292\n",
      "DEBUG:pyvisa:viClose(45,) -> 0\n",
      "DEBUG:pyvisa:GPIB0::24::INSTR - is closed\n"
     ]
    },
    {
     "name": "stdout",
     "output_type": "stream",
     "text": [
      "Error occurred: VI_ERROR_TMO (-1073807339): Timeout expired before operation completed.\n"
     ]
    }
   ],
   "source": [
    "import pyvisa\n",
    "\n",
    "rm = pyvisa.ResourceManager()\n",
    "instrument = rm.open_resource('GPIB0::24::INSTR')  # GPIB 주소 확인\n",
    "\n",
    "# 통신 설정\n",
    "instrument.timeout = 10000\n",
    "instrument.write_termination = '\\n'\n",
    "instrument.read_termination = '\\n'\n",
    "\n",
    "try:\n",
    "    # 장치 초기화 및 상태 클리어\n",
    "    instrument.write(\"*RST\")\n",
    "    instrument.write(\"*CLS\")\n",
    "\n",
    "    # 전류 측정 테스트\n",
    "    instrument.write(\":SOUR:FUNC VOLT\")\n",
    "    instrument.write(\":SENS:FUNC 'CURR'\")\n",
    "    instrument.write(\":SOUR:VOLT:RANG:AUTO ON\")\n",
    "    instrument.write(\":SENS:CURR:RANG:AUTO ON\")\n",
    "    \n",
    "    # 데이터 읽기 및 파싱\n",
    "    response = instrument.query(\":READ?\")\n",
    "    data_fields = response.strip().split(',')\n",
    "    voltage = float(data_fields[0])  # 첫 번째 필드가 전압 값\n",
    "    current = float(data_fields[1])  # 두 번째 필드가 전류 값\n",
    "    \n",
    "    print(f\"Voltage: {voltage} V, Current: {current} A\")\n",
    "\n",
    "except Exception as e:\n",
    "    print(f\"Error occurred: {e}\")\n",
    "\n",
    "finally:\n",
    "    instrument.close()\n"
   ]
  }
 ],
 "metadata": {
  "kernelspec": {
   "display_name": "Python 3",
   "language": "python",
   "name": "python3"
  },
  "language_info": {
   "codemirror_mode": {
    "name": "ipython",
    "version": 3
   },
   "file_extension": ".py",
   "mimetype": "text/x-python",
   "name": "python",
   "nbconvert_exporter": "python",
   "pygments_lexer": "ipython3",
   "version": "3.11.9"
  }
 },
 "nbformat": 4,
 "nbformat_minor": 2
}
